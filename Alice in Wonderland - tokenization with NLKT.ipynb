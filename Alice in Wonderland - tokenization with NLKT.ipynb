{
 "cells": [
  {
   "cell_type": "markdown",
   "id": "01cb0964",
   "metadata": {},
   "source": [
    "# Alice_in_Wonderland_tokenization\n",
    "\n",
    "*Display a histogram of the frequency of words in \"Alice in Wonderland\" text*\n",
    "\n",
    "### Data Analysis with mapReduce\n",
    "\n",
    "Let's create a histogram of the frequency of words in an extract from Alice in Wonderland. We want to know how often each word appears.\n",
    "\n",
    "This is a typical use case for mapReduce.\n",
    "\n",
    "Plan:\n",
    "\n",
    "- tokenize the text\n",
    "- clear of rare symbols\n",
    "- remove stop words\n",
    "- normalize rendering\n",
    "- calculate the histogram\n",
    "- normalize the histogram\n",
    "- print it out"
   ]
  },
  {
   "cell_type": "code",
   "execution_count": 1,
   "id": "2e81b96c",
   "metadata": {},
   "outputs": [],
   "source": [
    "text = \"\"\"\n",
    "“I’m sure those are not the right words,” said poor Alice, and her eyes filled with tears again as she went on, “I must be Mabel after all, and I shall have to go and live in that poky little house, and have next to no toys to play with, and oh! ever so many lessons to learn! No, I’ve made up my mind about it; if I’m Mabel, I’ll stay down here! It’ll be no use their putting their heads down and saying ‘Come up again, dear!’ I shall only look up and say ‘Who am I then? Tell me that first, and then, if I like being that person, I’ll come up: if not, I’ll stay down here till I’m somebody else’—but, oh dear!” cried Alice, with a sudden burst of tears, “I do wish they would put their heads down! I am so very tired of being all alone here!”\n",
    "\n",
    "As she said this she looked down at her hands, and was surprised to see that she had put on one of the Rabbit’s little white kid gloves while she was talking. “How can I have done that?” she thought. “I must be growing small again.” She got up and went to the table to measure herself by it, and found that, as nearly as she could guess, she was now about two feet high, and was going on shrinking rapidly: she soon found out that the cause of this was the fan she was holding, and she dropped it hastily, just in time to avoid shrinking away altogether.\n",
    "\n",
    "“That was a narrow escape!” said Alice, a good deal frightened at the sudden change, but very glad to find herself still in existence; “and now for the garden!” and she ran with all speed back to the little door: but, alas! the little door was shut again, and the little golden key was lying on the glass table as before, “and things are worse than ever,” thought the poor child, “for I never was so small as this before, never! And I declare it’s too bad, that it is!”\n",
    "\n",
    "As she said these words her foot slipped, and in another moment, splash! she was up to her chin in salt water. Her first idea was that she had somehow fallen into the sea, “and in that case I can go back by railway,” she said to herself. (Alice had been to the seaside once in her life, and had come to the general conclusion, that wherever you go to on the English coast you find a number of bathing machines in the sea, some children digging in the sand with wooden spades, then a row of lodging houses, and behind them a railway station.) However, she soon made out that she was in the pool of tears which she had wept when she was nine feet high.\n",
    "\n",
    "“I wish I hadn’t cried so much!” said Alice, as she swam about, trying to find her way out. “I shall be punished for it now, I suppose, by being drowned in my own tears! That will be a queer thing, to be sure! However, everything is queer to-day.”\n",
    "\n",
    "Just then she heard something splashing about in the pool a little way off, and she swam nearer to make out what it was: at first she thought it must be a walrus or hippopotamus, but then she remembered how small she was now, and she soon made out that it was only a mouse that had slipped in like herself.\n",
    "\n",
    "“Would it be of any use, now,” thought Alice, “to speak to this mouse? Everything is so out-of-the-way down here, that I should think very likely it can talk: at any rate, there’s no harm in trying.” So she began: “O Mouse, do you know the way out of this pool? I am very tired of swimming about here, O Mouse!” (Alice thought this must be the right way of speaking to a mouse: she had never done such a thing before, but she remembered having seen in her brother’s Latin Grammar, “A mouse—of a mouse—to a mouse—a mouse—O mouse!”) The Mouse looked at her rather inquisitively, and seemed to her to wink with one of its little eyes, but it said nothing.\n",
    "\n",
    "“Perhaps it doesn’t understand English,” thought Alice; “I daresay it’s a French mouse, come over with William the Conqueror.” (For, with all her knowledge of history, Alice had no very clear notion how long ago anything had happened.) So she began again: “Où est ma chatte?” which was the first sentence in her French lesson-book. The Mouse gave a sudden leap out of the water, and seemed to quiver all over with fright. “Oh, I beg your pardon!” cried Alice hastily, afraid that she had hurt the poor animal’s feelings. “I quite forgot you didn’t like cats.”\n",
    "\n",
    "“Not like cats!” cried the Mouse, in a shrill, passionate voice. “Would you like cats if you were me?”\n",
    "\n",
    "“Well, perhaps not,” said Alice in a soothing tone: “don’t be angry about it. And yet I wish I could show you our cat Dinah: I think you’d take a fancy to cats if you could only see her. She is such a dear quiet thing,” Alice went on, half to herself, as she swam lazily about in the pool, “and she sits purring so nicely by the fire, licking her paws and washing her face—and she is such a nice soft thing to nurse—and she’s such a capital one for catching mice—oh, I beg your pardon!” cried Alice again, for this time the Mouse was bristling all over, and she felt certain it must be really offended. “We won’t talk about her any more if you’d rather not.”\n",
    "\n",
    "“We indeed!” cried the Mouse, who was trembling down to the end of his tail. “As if I would talk on such a subject! Our family always hated cats: nasty, low, vulgar things! Don’t let me hear the name again!”\n",
    "\n",
    "“I won’t indeed!” said Alice, in a great hurry to change the subject of conversation. “Are you—are you fond—of—of dogs?” The Mouse did not answer, so Alice went on eagerly: “There is such a nice little dog near our house I should like to show you! A little bright-eyed terrier, you know, with oh, such long curly brown hair! And it’ll fetch things when you throw them, and it’ll sit up and beg for its dinner, and all sorts of things—I can’t remember half of them—and it belongs to a farmer, you know, and he says it’s so useful, it’s worth a hundred pounds! He says it kills all the rats and—oh dear!” cried Alice in a sorrowful tone, “I’m afraid I’ve offended it again!” For the Mouse was swimming away from her as hard as it could go, and making quite a commotion in the pool as it went.\n",
    "\n",
    "So she called softly after it, “Mouse dear! Do come back again, and we won’t talk about cats or dogs either, if you don’t like them!” When the Mouse heard this, it turned round and swam slowly back to her: its face was quite pale (with passion, Alice thought), and it said in a low trembling voice, “Let us get to the shore, and then I’ll tell you my history, and you’ll understand why it is I hate cats and dogs.”\n",
    "\n",
    "It was high time to go, for the pool was getting quite crowded with the birds and animals that had fallen into it: there were a Duck and a Dodo, a Lory and an Eaglet, and several other curious creatures. Alice led the way, and the whole party swam to the shore.\n",
    "\n",
    "\"\"\""
   ]
  },
  {
   "cell_type": "code",
   "execution_count": 10,
   "id": "d0261b67",
   "metadata": {},
   "outputs": [
    {
     "name": "stderr",
     "output_type": "stream",
     "text": [
      "[nltk_data] Downloading package punkt to\n",
      "[nltk_data]     C:\\Users\\Cristina\\AppData\\Roaming\\nltk_data...\n",
      "[nltk_data]   Package punkt is already up-to-date!\n",
      "[nltk_data] Downloading package stopwords to\n",
      "[nltk_data]     C:\\Users\\Cristina\\AppData\\Roaming\\nltk_data...\n",
      "[nltk_data]   Package stopwords is already up-to-date!\n"
     ]
    }
   ],
   "source": [
    "import nltk\n",
    "import re\n",
    "from nltk.corpus import stopwords\n",
    "nltk.download('punkt')\n",
    "nltk.download('stopwords')\n",
    "from nltk.tokenize import sent_tokenize, word_tokenize\n",
    "\n",
    "import matplotlib.pyplot as plt\n"
   ]
  },
  {
   "cell_type": "code",
   "execution_count": 11,
   "id": "e23228ca",
   "metadata": {},
   "outputs": [
    {
     "data": {
      "text/plain": [
       "'\\n“I’m sure those are not the right words,” said poor Alice, and her eyes filled with tears again as she went on, “I must be Mabel after all, and I shall have to go and live in that poky little house, and have next to no toys to play with, and oh! ever so many lessons to learn! No, I’ve made up my mind about it; if I’m Mabel, I’ll stay down here! It’ll be no use their putting their heads down and saying ‘Come up again, dear!’ I shall only look up and say ‘Who am I then? Tell me that first, and then, if I like being that person, I’ll come up: if not, I’ll stay down here till I’m somebody else’—but, oh dear!” cried Alice, with a sudden burst of tears, “I do wish they would put their heads down! I am so very tired of being all alone here!”\\n\\nAs she said this she looked down at her hands, and was surprised to see that she had put on one of the Rabbit’s little white kid gloves while she was talking. “How can I have done that?” she thought. “I must be growing small again.” She got up and went to the table to measure herself by it, and found that, as nearly as she could guess, she was now about two feet high, and was going on shrinking rapidly: she soon found out that the cause of this was the fan she was holding, and she dropped it hastily, just in time to avoid shrinking away altogether.\\n\\n“That was a narrow escape!” said Alice, a good deal frightened at the sudden change, but very glad to find herself still in existence; “and now for the garden!” and she ran with all speed back to the little door: but, alas! the little door was shut again, and the little golden key was lying on the glass table as before, “and things are worse than ever,” thought the poor child, “for I never was so small as this before, never! And I declare it’s too bad, that it is!”\\n\\nAs she said these words her foot slipped, and in another moment, splash! she was up to her chin in salt water. Her first idea was that she had somehow fallen into the sea, “and in that case I can go back by railway,” she said to herself. (Alice had been to the seaside once in her life, and had come to the general conclusion, that wherever you go to on the English coast you find a number of bathing machines in the sea, some children digging in the sand with wooden spades, then a row of lodging houses, and behind them a railway station.) However, she soon made out that she was in the pool of tears which she had wept when she was nine feet high.\\n\\n“I wish I hadn’t cried so much!” said Alice, as she swam about, trying to find her way out. “I shall be punished for it now, I suppose, by being drowned in my own tears! That will be a queer thing, to be sure! However, everything is queer to-day.”\\n\\nJust then she heard something splashing about in the pool a little way off, and she swam nearer to make out what it was: at first she thought it must be a walrus or hippopotamus, but then she remembered how small she was now, and she soon made out that it was only a mouse that had slipped in like herself.\\n\\n“Would it be of any use, now,” thought Alice, “to speak to this mouse? Everything is so out-of-the-way down here, that I should think very likely it can talk: at any rate, there’s no harm in trying.” So she began: “O Mouse, do you know the way out of this pool? I am very tired of swimming about here, O Mouse!” (Alice thought this must be the right way of speaking to a mouse: she had never done such a thing before, but she remembered having seen in her brother’s Latin Grammar, “A mouse—of a mouse—to a mouse—a mouse—O mouse!”) The Mouse looked at her rather inquisitively, and seemed to her to wink with one of its little eyes, but it said nothing.\\n\\n“Perhaps it doesn’t understand English,” thought Alice; “I daresay it’s a French mouse, come over with William the Conqueror.” (For, with all her knowledge of history, Alice had no very clear notion how long ago anything had happened.) So she began again: “Où est ma chatte?” which was the first sentence in her French lesson-book. The Mouse gave a sudden leap out of the water, and seemed to quiver all over with fright. “Oh, I beg your pardon!” cried Alice hastily, afraid that she had hurt the poor animal’s feelings. “I quite forgot you didn’t like cats.”\\n\\n“Not like cats!” cried the Mouse, in a shrill, passionate voice. “Would you like cats if you were me?”\\n\\n“Well, perhaps not,” said Alice in a soothing tone: “don’t be angry about it. And yet I wish I could show you our cat Dinah: I think you’d take a fancy to cats if you could only see her. She is such a dear quiet thing,” Alice went on, half to herself, as she swam lazily about in the pool, “and she sits purring so nicely by the fire, licking her paws and washing her face—and she is such a nice soft thing to nurse—and she’s such a capital one for catching mice—oh, I beg your pardon!” cried Alice again, for this time the Mouse was bristling all over, and she felt certain it must be really offended. “We won’t talk about her any more if you’d rather not.”\\n\\n“We indeed!” cried the Mouse, who was trembling down to the end of his tail. “As if I would talk on such a subject! Our family always hated cats: nasty, low, vulgar things! Don’t let me hear the name again!”\\n\\n“I won’t indeed!” said Alice, in a great hurry to change the subject of conversation. “Are you—are you fond—of—of dogs?” The Mouse did not answer, so Alice went on eagerly: “There is such a nice little dog near our house I should like to show you! A little bright-eyed terrier, you know, with oh, such long curly brown hair! And it’ll fetch things when you throw them, and it’ll sit up and beg for its dinner, and all sorts of things—I can’t remember half of them—and it belongs to a farmer, you know, and he says it’s so useful, it’s worth a hundred pounds! He says it kills all the rats and—oh dear!” cried Alice in a sorrowful tone, “I’m afraid I’ve offended it again!” For the Mouse was swimming away from her as hard as it could go, and making quite a commotion in the pool as it went.\\n\\nSo she called softly after it, “Mouse dear! Do come back again, and we won’t talk about cats or dogs either, if you don’t like them!” When the Mouse heard this, it turned round and swam slowly back to her: its face was quite pale (with passion, Alice thought), and it said in a low trembling voice, “Let us get to the shore, and then I’ll tell you my history, and you’ll understand why it is I hate cats and dogs.”\\n\\nIt was high time to go, for the pool was getting quite crowded with the birds and animals that had fallen into it: there were a Duck and a Dodo, a Lory and an Eaglet, and several other curious creatures. Alice led the way, and the whole party swam to the shore.\\n\\n'"
      ]
     },
     "execution_count": 11,
     "metadata": {},
     "output_type": "execute_result"
    }
   ],
   "source": [
    "text_str = ''.join(text)\n",
    "text_str"
   ]
  },
  {
   "cell_type": "code",
   "execution_count": 3,
   "id": "b8716100",
   "metadata": {},
   "outputs": [
    {
     "name": "stdout",
     "output_type": "stream",
     "text": [
      "['\\n“I’m sure those are not the right words,” said poor Alice, and her eyes filled with tears again as she went on, “I must be Mabel after all, and I shall have to go and live in that poky little house, and have next to no toys to play with, and oh!', 'ever so many lessons to learn!', 'No, I’ve made up my mind about it; if I’m Mabel, I’ll stay down here!', 'It’ll be no use their putting their heads down and saying ‘Come up again, dear!’ I shall only look up and say ‘Who am I then?', 'Tell me that first, and then, if I like being that person, I’ll come up: if not, I’ll stay down here till I’m somebody else’—but, oh dear!” cried Alice, with a sudden burst of tears, “I do wish they would put their heads down!', 'I am so very tired of being all alone here!”\\n\\nAs she said this she looked down at her hands, and was surprised to see that she had put on one of the Rabbit’s little white kid gloves while she was talking.', '“How can I have done that?” she thought.', '“I must be growing small again.” She got up and went to the table to measure herself by it, and found that, as nearly as she could guess, she was now about two feet high, and was going on shrinking rapidly: she soon found out that the cause of this was the fan she was holding, and she dropped it hastily, just in time to avoid shrinking away altogether.', '“That was a narrow escape!” said Alice, a good deal frightened at the sudden change, but very glad to find herself still in existence; “and now for the garden!” and she ran with all speed back to the little door: but, alas!', 'the little door was shut again, and the little golden key was lying on the glass table as before, “and things are worse than ever,” thought the poor child, “for I never was so small as this before, never!', 'And I declare it’s too bad, that it is!”\\n\\nAs she said these words her foot slipped, and in another moment, splash!', 'she was up to her chin in salt water.', 'Her first idea was that she had somehow fallen into the sea, “and in that case I can go back by railway,” she said to herself.', '(Alice had been to the seaside once in her life, and had come to the general conclusion, that wherever you go to on the English coast you find a number of bathing machines in the sea, some children digging in the sand with wooden spades, then a row of lodging houses, and behind them a railway station.)', 'However, she soon made out that she was in the pool of tears which she had wept when she was nine feet high.', '“I wish I hadn’t cried so much!” said Alice, as she swam about, trying to find her way out.', '“I shall be punished for it now, I suppose, by being drowned in my own tears!', 'That will be a queer thing, to be sure!', 'However, everything is queer to-day.”\\n\\nJust then she heard something splashing about in the pool a little way off, and she swam nearer to make out what it was: at first she thought it must be a walrus or hippopotamus, but then she remembered how small she was now, and she soon made out that it was only a mouse that had slipped in like herself.', '“Would it be of any use, now,” thought Alice, “to speak to this mouse?', 'Everything is so out-of-the-way down here, that I should think very likely it can talk: at any rate, there’s no harm in trying.” So she began: “O Mouse, do you know the way out of this pool?', 'I am very tired of swimming about here, O Mouse!” (Alice thought this must be the right way of speaking to a mouse: she had never done such a thing before, but she remembered having seen in her brother’s Latin Grammar, “A mouse—of a mouse—to a mouse—a mouse—O mouse!”) The Mouse looked at her rather inquisitively, and seemed to her to wink with one of its little eyes, but it said nothing.', '“Perhaps it doesn’t understand English,” thought Alice; “I daresay it’s a French mouse, come over with William the Conqueror.” (For, with all her knowledge of history, Alice had no very clear notion how long ago anything had happened.)', 'So she began again: “Où est ma chatte?” which was the first sentence in her French lesson-book.', 'The Mouse gave a sudden leap out of the water, and seemed to quiver all over with fright.', '“Oh, I beg your pardon!” cried Alice hastily, afraid that she had hurt the poor animal’s feelings.', '“I quite forgot you didn’t like cats.”\\n\\n“Not like cats!” cried the Mouse, in a shrill, passionate voice.', '“Would you like cats if you were me?”\\n\\n“Well, perhaps not,” said Alice in a soothing tone: “don’t be angry about it.', 'And yet I wish I could show you our cat Dinah: I think you’d take a fancy to cats if you could only see her.', 'She is such a dear quiet thing,” Alice went on, half to herself, as she swam lazily about in the pool, “and she sits purring so nicely by the fire, licking her paws and washing her face—and she is such a nice soft thing to nurse—and she’s such a capital one for catching mice—oh, I beg your pardon!” cried Alice again, for this time the Mouse was bristling all over, and she felt certain it must be really offended.', '“We won’t talk about her any more if you’d rather not.”\\n\\n“We indeed!” cried the Mouse, who was trembling down to the end of his tail.', '“As if I would talk on such a subject!', 'Our family always hated cats: nasty, low, vulgar things!', 'Don’t let me hear the name again!”\\n\\n“I won’t indeed!” said Alice, in a great hurry to change the subject of conversation.', '“Are you—are you fond—of—of dogs?” The Mouse did not answer, so Alice went on eagerly: “There is such a nice little dog near our house I should like to show you!', 'A little bright-eyed terrier, you know, with oh, such long curly brown hair!', 'And it’ll fetch things when you throw them, and it’ll sit up and beg for its dinner, and all sorts of things—I can’t remember half of them—and it belongs to a farmer, you know, and he says it’s so useful, it’s worth a hundred pounds!', 'He says it kills all the rats and—oh dear!” cried Alice in a sorrowful tone, “I’m afraid I’ve offended it again!” For the Mouse was swimming away from her as hard as it could go, and making quite a commotion in the pool as it went.', 'So she called softly after it, “Mouse dear!', 'Do come back again, and we won’t talk about cats or dogs either, if you don’t like them!” When the Mouse heard this, it turned round and swam slowly back to her: its face was quite pale (with passion, Alice thought), and it said in a low trembling voice, “Let us get to the shore, and then I’ll tell you my history, and you’ll understand why it is I hate cats and dogs.”\\n\\nIt was high time to go, for the pool was getting quite crowded with the birds and animals that had fallen into it: there were a Duck and a Dodo, a Lory and an Eaglet, and several other curious creatures.', 'Alice led the way, and the whole party swam to the shore.']\n"
     ]
    }
   ],
   "source": [
    "tokenized_text=sent_tokenize(text_str) #tokenizamos el texto\n",
    "print(tokenized_text)"
   ]
  },
  {
   "cell_type": "code",
   "execution_count": 4,
   "id": "f91ef096",
   "metadata": {},
   "outputs": [
    {
     "name": "stdout",
     "output_type": "stream",
     "text": [
      "['“', 'I', '’', 'm', 'sure', 'those', 'are', 'not', 'the', 'right', 'words', ',', '”', 'said', 'poor', 'Alice', ',', 'and', 'her', 'eyes', 'filled', 'with', 'tears', 'again', 'as', 'she', 'went', 'on', ',', '“', 'I', 'must', 'be', 'Mabel', 'after', 'all', ',', 'and', 'I', 'shall', 'have', 'to', 'go', 'and', 'live', 'in', 'that', 'poky', 'little', 'house', ',', 'and', 'have', 'next', 'to', 'no', 'toys', 'to', 'play', 'with', ',', 'and', 'oh', '!', 'ever', 'so', 'many', 'lessons', 'to', 'learn', '!', 'No', ',', 'I', '’', 've', 'made', 'up', 'my', 'mind', 'about', 'it', ';', 'if', 'I', '’', 'm', 'Mabel', ',', 'I', '’', 'll', 'stay', 'down', 'here', '!', 'It', '’', 'll', 'be', 'no', 'use', 'their', 'putting', 'their', 'heads', 'down', 'and', 'saying', '‘', 'Come', 'up', 'again', ',', 'dear', '!', '’', 'I', 'shall', 'only', 'look', 'up', 'and', 'say', '‘', 'Who', 'am', 'I', 'then', '?', 'Tell', 'me', 'that', 'first', ',', 'and', 'then', ',', 'if', 'I', 'like', 'being', 'that', 'person', ',', 'I', '’', 'll', 'come', 'up', ':', 'if', 'not', ',', 'I', '’', 'll', 'stay', 'down', 'here', 'till', 'I', '’', 'm', 'somebody', 'else', '’', '—but', ',', 'oh', 'dear', '!', '”', 'cried', 'Alice', ',', 'with', 'a', 'sudden', 'burst', 'of', 'tears', ',', '“', 'I', 'do', 'wish', 'they', 'would', 'put', 'their', 'heads', 'down', '!', 'I', 'am', 'so', 'very', 'tired', 'of', 'being', 'all', 'alone', 'here', '!', '”', 'As', 'she', 'said', 'this', 'she', 'looked', 'down', 'at', 'her', 'hands', ',', 'and', 'was', 'surprised', 'to', 'see', 'that', 'she', 'had', 'put', 'on', 'one', 'of', 'the', 'Rabbit', '’', 's', 'little', 'white', 'kid', 'gloves', 'while', 'she', 'was', 'talking', '.', '“', 'How', 'can', 'I', 'have', 'done', 'that', '?', '”', 'she', 'thought', '.', '“', 'I', 'must', 'be', 'growing', 'small', 'again.', '”', 'She', 'got', 'up', 'and', 'went', 'to', 'the', 'table', 'to', 'measure', 'herself', 'by', 'it', ',', 'and', 'found', 'that', ',', 'as', 'nearly', 'as', 'she', 'could', 'guess', ',', 'she', 'was', 'now', 'about', 'two', 'feet', 'high', ',', 'and', 'was', 'going', 'on', 'shrinking', 'rapidly', ':', 'she', 'soon', 'found', 'out', 'that', 'the', 'cause', 'of', 'this', 'was', 'the', 'fan', 'she', 'was', 'holding', ',', 'and', 'she', 'dropped', 'it', 'hastily', ',', 'just', 'in', 'time', 'to', 'avoid', 'shrinking', 'away', 'altogether', '.', '“', 'That', 'was', 'a', 'narrow', 'escape', '!', '”', 'said', 'Alice', ',', 'a', 'good', 'deal', 'frightened', 'at', 'the', 'sudden', 'change', ',', 'but', 'very', 'glad', 'to', 'find', 'herself', 'still', 'in', 'existence', ';', '“', 'and', 'now', 'for', 'the', 'garden', '!', '”', 'and', 'she', 'ran', 'with', 'all', 'speed', 'back', 'to', 'the', 'little', 'door', ':', 'but', ',', 'alas', '!', 'the', 'little', 'door', 'was', 'shut', 'again', ',', 'and', 'the', 'little', 'golden', 'key', 'was', 'lying', 'on', 'the', 'glass', 'table', 'as', 'before', ',', '“', 'and', 'things', 'are', 'worse', 'than', 'ever', ',', '”', 'thought', 'the', 'poor', 'child', ',', '“', 'for', 'I', 'never', 'was', 'so', 'small', 'as', 'this', 'before', ',', 'never', '!', 'And', 'I', 'declare', 'it', '’', 's', 'too', 'bad', ',', 'that', 'it', 'is', '!', '”', 'As', 'she', 'said', 'these', 'words', 'her', 'foot', 'slipped', ',', 'and', 'in', 'another', 'moment', ',', 'splash', '!', 'she', 'was', 'up', 'to', 'her', 'chin', 'in', 'salt', 'water', '.', 'Her', 'first', 'idea', 'was', 'that', 'she', 'had', 'somehow', 'fallen', 'into', 'the', 'sea', ',', '“', 'and', 'in', 'that', 'case', 'I', 'can', 'go', 'back', 'by', 'railway', ',', '”', 'she', 'said', 'to', 'herself', '.', '(', 'Alice', 'had', 'been', 'to', 'the', 'seaside', 'once', 'in', 'her', 'life', ',', 'and', 'had', 'come', 'to', 'the', 'general', 'conclusion', ',', 'that', 'wherever', 'you', 'go', 'to', 'on', 'the', 'English', 'coast', 'you', 'find', 'a', 'number', 'of', 'bathing', 'machines', 'in', 'the', 'sea', ',', 'some', 'children', 'digging', 'in', 'the', 'sand', 'with', 'wooden', 'spades', ',', 'then', 'a', 'row', 'of', 'lodging', 'houses', ',', 'and', 'behind', 'them', 'a', 'railway', 'station', '.', ')', 'However', ',', 'she', 'soon', 'made', 'out', 'that', 'she', 'was', 'in', 'the', 'pool', 'of', 'tears', 'which', 'she', 'had', 'wept', 'when', 'she', 'was', 'nine', 'feet', 'high', '.', '“', 'I', 'wish', 'I', 'hadn', '’', 't', 'cried', 'so', 'much', '!', '”', 'said', 'Alice', ',', 'as', 'she', 'swam', 'about', ',', 'trying', 'to', 'find', 'her', 'way', 'out', '.', '“', 'I', 'shall', 'be', 'punished', 'for', 'it', 'now', ',', 'I', 'suppose', ',', 'by', 'being', 'drowned', 'in', 'my', 'own', 'tears', '!', 'That', 'will', 'be', 'a', 'queer', 'thing', ',', 'to', 'be', 'sure', '!', 'However', ',', 'everything', 'is', 'queer', 'to-day.', '”', 'Just', 'then', 'she', 'heard', 'something', 'splashing', 'about', 'in', 'the', 'pool', 'a', 'little', 'way', 'off', ',', 'and', 'she', 'swam', 'nearer', 'to', 'make', 'out', 'what', 'it', 'was', ':', 'at', 'first', 'she', 'thought', 'it', 'must', 'be', 'a', 'walrus', 'or', 'hippopotamus', ',', 'but', 'then', 'she', 'remembered', 'how', 'small', 'she', 'was', 'now', ',', 'and', 'she', 'soon', 'made', 'out', 'that', 'it', 'was', 'only', 'a', 'mouse', 'that', 'had', 'slipped', 'in', 'like', 'herself', '.', '“', 'Would', 'it', 'be', 'of', 'any', 'use', ',', 'now', ',', '”', 'thought', 'Alice', ',', '“', 'to', 'speak', 'to', 'this', 'mouse', '?', 'Everything', 'is', 'so', 'out-of-the-way', 'down', 'here', ',', 'that', 'I', 'should', 'think', 'very', 'likely', 'it', 'can', 'talk', ':', 'at', 'any', 'rate', ',', 'there', '’', 's', 'no', 'harm', 'in', 'trying.', '”', 'So', 'she', 'began', ':', '“', 'O', 'Mouse', ',', 'do', 'you', 'know', 'the', 'way', 'out', 'of', 'this', 'pool', '?', 'I', 'am', 'very', 'tired', 'of', 'swimming', 'about', 'here', ',', 'O', 'Mouse', '!', '”', '(', 'Alice', 'thought', 'this', 'must', 'be', 'the', 'right', 'way', 'of', 'speaking', 'to', 'a', 'mouse', ':', 'she', 'had', 'never', 'done', 'such', 'a', 'thing', 'before', ',', 'but', 'she', 'remembered', 'having', 'seen', 'in', 'her', 'brother', '’', 's', 'Latin', 'Grammar', ',', '“', 'A', 'mouse—of', 'a', 'mouse—to', 'a', 'mouse—a', 'mouse—O', 'mouse', '!', '”', ')', 'The', 'Mouse', 'looked', 'at', 'her', 'rather', 'inquisitively', ',', 'and', 'seemed', 'to', 'her', 'to', 'wink', 'with', 'one', 'of', 'its', 'little', 'eyes', ',', 'but', 'it', 'said', 'nothing', '.', '“', 'Perhaps', 'it', 'doesn', '’', 't', 'understand', 'English', ',', '”', 'thought', 'Alice', ';', '“', 'I', 'daresay', 'it', '’', 's', 'a', 'French', 'mouse', ',', 'come', 'over', 'with', 'William', 'the', 'Conqueror.', '”', '(', 'For', ',', 'with', 'all', 'her', 'knowledge', 'of', 'history', ',', 'Alice', 'had', 'no', 'very', 'clear', 'notion', 'how', 'long', 'ago', 'anything', 'had', 'happened', '.', ')', 'So', 'she', 'began', 'again', ':', '“', 'Où', 'est', 'ma', 'chatte', '?', '”', 'which', 'was', 'the', 'first', 'sentence', 'in', 'her', 'French', 'lesson-book', '.', 'The', 'Mouse', 'gave', 'a', 'sudden', 'leap', 'out', 'of', 'the', 'water', ',', 'and', 'seemed', 'to', 'quiver', 'all', 'over', 'with', 'fright', '.', '“', 'Oh', ',', 'I', 'beg', 'your', 'pardon', '!', '”', 'cried', 'Alice', 'hastily', ',', 'afraid', 'that', 'she', 'had', 'hurt', 'the', 'poor', 'animal', '’', 's', 'feelings', '.', '“', 'I', 'quite', 'forgot', 'you', 'didn', '’', 't', 'like', 'cats.', '”', '“', 'Not', 'like', 'cats', '!', '”', 'cried', 'the', 'Mouse', ',', 'in', 'a', 'shrill', ',', 'passionate', 'voice', '.', '“', 'Would', 'you', 'like', 'cats', 'if', 'you', 'were', 'me', '?', '”', '“', 'Well', ',', 'perhaps', 'not', ',', '”', 'said', 'Alice', 'in', 'a', 'soothing', 'tone', ':', '“', 'don', '’', 't', 'be', 'angry', 'about', 'it', '.', 'And', 'yet', 'I', 'wish', 'I', 'could', 'show', 'you', 'our', 'cat', 'Dinah', ':', 'I', 'think', 'you', '’', 'd', 'take', 'a', 'fancy', 'to', 'cats', 'if', 'you', 'could', 'only', 'see', 'her', '.', 'She', 'is', 'such', 'a', 'dear', 'quiet', 'thing', ',', '”', 'Alice', 'went', 'on', ',', 'half', 'to', 'herself', ',', 'as', 'she', 'swam', 'lazily', 'about', 'in', 'the', 'pool', ',', '“', 'and', 'she', 'sits', 'purring', 'so', 'nicely', 'by', 'the', 'fire', ',', 'licking', 'her', 'paws', 'and', 'washing', 'her', 'face—and', 'she', 'is', 'such', 'a', 'nice', 'soft', 'thing', 'to', 'nurse—and', 'she', '’', 's', 'such', 'a', 'capital', 'one', 'for', 'catching', 'mice—oh', ',', 'I', 'beg', 'your', 'pardon', '!', '”', 'cried', 'Alice', 'again', ',', 'for', 'this', 'time', 'the', 'Mouse', 'was', 'bristling', 'all', 'over', ',', 'and', 'she', 'felt', 'certain', 'it', 'must', 'be', 'really', 'offended', '.', '“', 'We', 'won', '’', 't', 'talk', 'about', 'her', 'any', 'more', 'if', 'you', '’', 'd', 'rather', 'not.', '”', '“', 'We', 'indeed', '!', '”', 'cried', 'the', 'Mouse', ',', 'who', 'was', 'trembling', 'down', 'to', 'the', 'end', 'of', 'his', 'tail', '.', '“', 'As', 'if', 'I', 'would', 'talk', 'on', 'such', 'a', 'subject', '!', 'Our', 'family', 'always', 'hated', 'cats', ':', 'nasty', ',', 'low', ',', 'vulgar', 'things', '!', 'Don', '’', 't', 'let', 'me', 'hear', 'the', 'name', 'again', '!', '”', '“', 'I', 'won', '’', 't', 'indeed', '!', '”', 'said', 'Alice', ',', 'in', 'a', 'great', 'hurry', 'to', 'change', 'the', 'subject', 'of', 'conversation', '.', '“', 'Are', 'you—are', 'you', 'fond—of—of', 'dogs', '?', '”', 'The', 'Mouse', 'did', 'not', 'answer', ',', 'so', 'Alice', 'went', 'on', 'eagerly', ':', '“', 'There', 'is', 'such', 'a', 'nice', 'little', 'dog', 'near', 'our', 'house', 'I', 'should', 'like', 'to', 'show', 'you', '!', 'A', 'little', 'bright-eyed', 'terrier', ',', 'you', 'know', ',', 'with', 'oh', ',', 'such', 'long', 'curly', 'brown', 'hair', '!', 'And', 'it', '’', 'll', 'fetch', 'things', 'when', 'you', 'throw', 'them', ',', 'and', 'it', '’', 'll', 'sit', 'up', 'and', 'beg', 'for', 'its', 'dinner', ',', 'and', 'all', 'sorts', 'of', 'things—I', 'can', '’', 't', 'remember', 'half', 'of', 'them—and', 'it', 'belongs', 'to', 'a', 'farmer', ',', 'you', 'know', ',', 'and', 'he', 'says', 'it', '’', 's', 'so', 'useful', ',', 'it', '’', 's', 'worth', 'a', 'hundred', 'pounds', '!', 'He', 'says', 'it', 'kills', 'all', 'the', 'rats', 'and—oh', 'dear', '!', '”', 'cried', 'Alice', 'in', 'a', 'sorrowful', 'tone', ',', '“', 'I', '’', 'm', 'afraid', 'I', '’', 've', 'offended', 'it', 'again', '!', '”', 'For', 'the', 'Mouse', 'was', 'swimming', 'away', 'from', 'her', 'as', 'hard', 'as', 'it', 'could', 'go', ',', 'and', 'making', 'quite', 'a', 'commotion', 'in', 'the', 'pool', 'as', 'it', 'went', '.', 'So', 'she', 'called', 'softly', 'after', 'it', ',', '“', 'Mouse', 'dear', '!', 'Do', 'come', 'back', 'again', ',', 'and', 'we', 'won', '’', 't', 'talk', 'about', 'cats', 'or', 'dogs', 'either', ',', 'if', 'you', 'don', '’', 't', 'like', 'them', '!', '”', 'When', 'the', 'Mouse', 'heard', 'this', ',', 'it', 'turned', 'round', 'and', 'swam', 'slowly', 'back', 'to', 'her', ':', 'its', 'face', 'was', 'quite', 'pale', '(', 'with', 'passion', ',', 'Alice', 'thought', ')', ',', 'and', 'it', 'said', 'in', 'a', 'low', 'trembling', 'voice', ',', '“', 'Let', 'us', 'get', 'to', 'the', 'shore', ',', 'and', 'then', 'I', '’', 'll', 'tell', 'you', 'my', 'history', ',', 'and', 'you', '’', 'll', 'understand', 'why', 'it', 'is', 'I', 'hate', 'cats', 'and', 'dogs.', '”', 'It', 'was', 'high', 'time', 'to', 'go', ',', 'for', 'the', 'pool', 'was', 'getting', 'quite', 'crowded', 'with', 'the', 'birds', 'and', 'animals', 'that', 'had', 'fallen', 'into', 'it', ':', 'there', 'were', 'a', 'Duck', 'and', 'a', 'Dodo', ',', 'a', 'Lory', 'and', 'an', 'Eaglet', ',', 'and', 'several', 'other', 'curious', 'creatures', '.', 'Alice', 'led', 'the', 'way', ',', 'and', 'the', 'whole', 'party', 'swam', 'to', 'the', 'shore', '.']\n"
     ]
    }
   ],
   "source": [
    "tokenized_word=word_tokenize(text_str) #tokenizamos las palabras\n",
    "print(tokenized_word)"
   ]
  },
  {
   "cell_type": "code",
   "execution_count": 5,
   "id": "85128194",
   "metadata": {},
   "outputs": [
    {
     "name": "stdout",
     "output_type": "stream",
     "text": [
      "<FreqDist with 496 samples and 1623 outcomes>\n"
     ]
    }
   ],
   "source": [
    "from nltk.probability import FreqDist\n",
    "fdist = FreqDist(tokenized_word) #calculamos la frecuencia de palabras\n",
    "print(fdist)"
   ]
  },
  {
   "cell_type": "code",
   "execution_count": 6,
   "id": "8a81fe88",
   "metadata": {},
   "outputs": [
    {
     "data": {
      "text/plain": [
       "[(',', 109),\n",
       " ('the', 44),\n",
       " ('and', 44),\n",
       " ('I', 39),\n",
       " ('she', 38),\n",
       " ('’', 37),\n",
       " ('“', 35),\n",
       " ('”', 35),\n",
       " ('to', 35),\n",
       " ('!', 33),\n",
       " ('a', 33),\n",
       " ('it', 30),\n",
       " ('was', 24),\n",
       " ('in', 23),\n",
       " ('.', 23),\n",
       " ('Alice', 18),\n",
       " ('of', 18),\n",
       " ('you', 18),\n",
       " ('her', 17),\n",
       " ('that', 17),\n",
       " (':', 14),\n",
       " ('with', 12),\n",
       " ('be', 11),\n",
       " ('had', 11),\n",
       " ('Mouse', 11),\n",
       " ('said', 10),\n",
       " ('as', 10),\n",
       " ('t', 10),\n",
       " ('little', 9),\n",
       " ('about', 9),\n",
       " ('s', 9),\n",
       " ('again', 8),\n",
       " ('on', 8),\n",
       " ('all', 8),\n",
       " ('so', 8),\n",
       " ('if', 8),\n",
       " ('ll', 8),\n",
       " ('this', 8),\n",
       " ('up', 7),\n",
       " ('down', 7),\n",
       " ('?', 7),\n",
       " ('like', 7),\n",
       " ('cried', 7),\n",
       " ('thought', 7),\n",
       " ('out', 7),\n",
       " ('for', 7),\n",
       " ('is', 7),\n",
       " ('such', 7),\n",
       " ('then', 6),\n",
       " ('pool', 6)]"
      ]
     },
     "execution_count": 6,
     "metadata": {},
     "output_type": "execute_result"
    }
   ],
   "source": [
    "fdist.most_common(50) #mostramos las 50 palabras más repetidas"
   ]
  },
  {
   "cell_type": "code",
   "execution_count": 7,
   "id": "aca427d6",
   "metadata": {},
   "outputs": [
    {
     "name": "stdout",
     "output_type": "stream",
     "text": [
      "['Im', 'words', 'poor', 'Alice', 'eyes', 'filled', 'tears', 'I', 'Mabel', 'I', 'live', 'poky', 'house', 'toys', 'play', 'lessons', 'learn', 'No', 'Ive', 'made', 'mind', 'Im', 'Mabel', 'Ill', 'stay', 'Itll', 'putting', 'heads', 'Come', 'dear', 'I', 'Who', 'I', 'Tell', 'I', 'person', 'Ill', 'Ill', 'stay', 'Im', 'else—but', 'dear', 'cried', 'Alice', 'sudden', 'burst', 'tears', 'I', 'wish', 'put', 'heads', 'I', 'tired', 'As', 'looked', 'hands', 'surprised', 'put', 'Rabbits', 'white', 'kid', 'gloves', 'talking', 'How', 'I', 'I', 'growing', 'small', 'She', 'table', 'measure', 'found', 'guess', 'feet', 'high', 'shrinking', 'rapidly', 'found', 'holding', 'dropped', 'hastily', 'time', 'avoid', 'shrinking', 'away', 'altogether', 'That', 'narrow', 'escape', 'Alice', 'deal', 'frightened', 'sudden', 'change', 'glad', 'find', 'existence', 'garden', 'ran', 'speed', 'back', 'alas', 'shut', 'golden', 'key', 'lying', 'glass', 'table', 'things', 'worse', 'poor', 'child', 'I', 'small', 'And', 'I', 'declare', 'As', 'words', 'foot', 'slipped', 'moment', 'splash', 'chin', 'salt', 'water', 'Her', 'idea', 'fallen', 'case', 'I', 'back', 'railway', 'Alice', 'seaside', 'life', 'general', 'conclusion', 'English', 'coast', 'find', 'number', 'bathing', 'machines', 'children', 'digging', 'sand', 'wooden', 'spades', 'row', 'lodging', 'houses', 'railway', 'station', 'However', 'made', 'pool', 'tears', 'wept', 'feet', 'high', 'I', 'wish', 'I', 'cried', 'Alice', 'swam', 'find', 'I', 'punished', 'I', 'suppose', 'drowned', 'tears', 'That', 'queer', 'However', 'queer', 'to-day', 'Just', 'heard', 'splashing', 'pool', 'swam', 'nearer', 'make', 'walrus', 'hippopotamus', 'remembered', 'small', 'made', 'mouse', 'slipped', 'Would', 'Alice', 'speak', 'mouse', 'Everything', 'out-of-the-way', 'I', 'talk', 'rate', 'harm', 'So', 'began', 'O', 'Mouse', 'pool', 'I', 'tired', 'swimming', 'O', 'Mouse', 'Alice', 'speaking', 'mouse', 'remembered', 'brothers', 'Latin', 'Grammar', 'A', 'mouse—of', 'mouse—to', 'mouse—a', 'mouse—O', 'mouse', 'The', 'Mouse', 'looked', 'inquisitively', 'wink', 'eyes', 'Perhaps', 'understand', 'English', 'Alice', 'I', 'daresay', 'French', 'mouse', 'William', 'Conqueror', 'For', 'knowledge', 'history', 'Alice', 'clear', 'notion', 'long', 'ago', 'happened', 'So', 'began', 'Où', 'chatte', 'sentence', 'French', 'lesson-book', 'The', 'Mouse', 'gave', 'sudden', 'leap', 'water', 'quiver', 'fright', 'Oh', 'I', 'beg', 'pardon', 'cried', 'Alice', 'hastily', 'afraid', 'hurt', 'poor', 'animals', 'feelings', 'I', 'forgot', 'cats', 'Not', 'cats', 'cried', 'Mouse', 'shrill', 'passionate', 'voice', 'Would', 'cats', 'Well', 'Alice', 'soothing', 'tone', 'angry', 'And', 'I', 'wish', 'I', 'show', 'Dinah', 'I', 'youd', 'fancy', 'cats', 'She', 'dear', 'quiet', 'Alice', 'half', 'swam', 'lazily', 'pool', 'sits', 'purring', 'nicely', 'fire', 'licking', 'paws', 'washing', 'face—and', 'nice', 'soft', 'nurse—and', 'shes', 'capital', 'catching', 'mice—oh', 'I', 'beg', 'pardon', 'cried', 'Alice', 'time', 'Mouse', 'bristling', 'felt', 'offended', 'We', 'talk', 'youd', 'We', 'indeed', 'cried', 'Mouse', 'trembling', 'tail', 'As', 'I', 'talk', 'subject', 'Our', 'family', 'hated', 'cats', 'nasty', 'low', 'vulgar', 'things', 'Dont', 'hear', 'I', 'indeed', 'Alice', 'great', 'hurry', 'change', 'subject', 'conversation', 'Are', 'you—are', 'fond—of—of', 'dogs', 'The', 'Mouse', 'answer', 'Alice', 'eagerly', 'There', 'nice', 'house', 'I', 'show', 'A', 'bright-eyed', 'terrier', 'long', 'curly', 'brown', 'hair', 'And', 'itll', 'fetch', 'things', 'throw', 'itll', 'beg', 'dinner', 'sorts', 'things—I', 'remember', 'half', 'them—and', 'belongs', 'farmer', 'worth', 'hundred', 'pounds', 'He', 'kills', 'rats', 'and—oh', 'dear', 'cried', 'Alice', 'sorrowful', 'tone', 'Im', 'afraid', 'Ive', 'offended', 'For', 'Mouse', 'swimming', 'away', 'hard', 'making', 'commotion', 'pool', 'So', 'called', 'softly', 'Mouse', 'dear', 'Do', 'back', 'talk', 'cats', 'dogs', 'When', 'Mouse', 'heard', 'turned', 'round', 'swam', 'slowly', 'back', 'pale', 'passion', 'Alice', 'low', 'trembling', 'voice', 'Let', 'shore', 'Ill', 'history', 'youll', 'understand', 'I', 'hate', 'cats', 'dogs', 'It', 'high', 'time', 'pool', 'crowded', 'birds', 'animals', 'fallen', 'Duck', 'Dodo', 'Lory', 'Eaglet', 'curious', 'creatures', 'Alice', 'led', 'party', 'swam', 'shore']\n"
     ]
    }
   ],
   "source": [
    "new_text = re.sub(\"[.|,|;|:|!|?|(|)|-|_|’|“|”|‘]\", \"\", text) #limpiamos el texto de símbolos\n",
    "\n",
    "text_tokens = word_tokenize(new_text)\n",
    "\n",
    "tokens_without_sw = [word for word in text_tokens if not word in stopwords.words()] #sacamos las stopwords\n",
    "\n",
    "print(tokens_without_sw)"
   ]
  },
  {
   "cell_type": "code",
   "execution_count": 8,
   "id": "b7fef5cd",
   "metadata": {},
   "outputs": [
    {
     "name": "stdout",
     "output_type": "stream",
     "text": [
      "<FreqDist with 298 samples and 482 outcomes>\n"
     ]
    }
   ],
   "source": [
    "fdist_stopwords = FreqDist(tokens_without_sw) #calculamos la frecuencia de palabras sin stopwords\n",
    "print(fdist_stopwords)"
   ]
  },
  {
   "cell_type": "code",
   "execution_count": 9,
   "id": "2a772bca",
   "metadata": {},
   "outputs": [
    {
     "data": {
      "text/plain": [
       "[('I', 29),\n",
       " ('Alice', 18),\n",
       " ('Mouse', 11),\n",
       " ('cried', 7),\n",
       " ('cats', 7),\n",
       " ('pool', 6),\n",
       " ('dear', 5),\n",
       " ('swam', 5),\n",
       " ('mouse', 5),\n",
       " ('Im', 4),\n",
       " ('tears', 4),\n",
       " ('Ill', 4),\n",
       " ('back', 4),\n",
       " ('talk', 4),\n",
       " ('poor', 3),\n",
       " ('made', 3),\n",
       " ('sudden', 3),\n",
       " ('wish', 3),\n",
       " ('As', 3),\n",
       " ('small', 3),\n",
       " ('high', 3),\n",
       " ('time', 3),\n",
       " ('find', 3),\n",
       " ('things', 3),\n",
       " ('And', 3),\n",
       " ('So', 3),\n",
       " ('The', 3),\n",
       " ('beg', 3),\n",
       " ('dogs', 3),\n",
       " ('words', 2),\n",
       " ('eyes', 2),\n",
       " ('Mabel', 2),\n",
       " ('house', 2),\n",
       " ('Ive', 2),\n",
       " ('stay', 2),\n",
       " ('heads', 2),\n",
       " ('put', 2),\n",
       " ('tired', 2),\n",
       " ('looked', 2),\n",
       " ('She', 2),\n",
       " ('table', 2),\n",
       " ('found', 2),\n",
       " ('feet', 2),\n",
       " ('shrinking', 2),\n",
       " ('hastily', 2),\n",
       " ('away', 2),\n",
       " ('That', 2),\n",
       " ('change', 2),\n",
       " ('slipped', 2),\n",
       " ('water', 2)]"
      ]
     },
     "execution_count": 9,
     "metadata": {},
     "output_type": "execute_result"
    }
   ],
   "source": [
    "fdist_stopwords.most_common(50) #mostramos las 50 palabras más repetidas sin stopwords"
   ]
  },
  {
   "cell_type": "code",
   "execution_count": 12,
   "id": "40cc6a8b",
   "metadata": {},
   "outputs": [
    {
     "data": {
      "image/png": "[encoded data removed]",
      "text/plain": [
       "<Figure size 1440x720 with 1 Axes>"
      ]
     },
     "metadata": {
      "needs_background": "light"
     },
     "output_type": "display_data"
    }
   ],
   "source": [
    "fig = plt.figure(figsize = (20,10)) \n",
    "fdist_stopwords.plot(50,cumulative=False, color = \"green\")\n",
    "plt.show() #mostramos el histograma"
   ]
  },
  {
   "cell_type": "code",
   "execution_count": null,
   "id": "51332305",
   "metadata": {},
   "outputs": [],
   "source": []
  }
 ],
 "metadata": {
  "kernelspec": {
   "display_name": "Python 3 (ipykernel)",
   "language": "python",
   "name": "python3"
  },
  "language_info": {
   "codemirror_mode": {
    "name": "ipython",
    "version": 3
   },
   "file_extension": ".py",
   "mimetype": "text/x-python",
   "name": "python",
   "nbconvert_exporter": "python",
   "pygments_lexer": "ipython3",
   "version": "3.9.7"
  },
  "latex_envs": {
   "LaTeX_envs_menu_present": true,
   "autoclose": false,
   "autocomplete": true,
   "bibliofile": "biblio.bib",
   "cite_by": "apalike",
   "current_citInitial": 1,
   "eqLabelWithNumbers": true,
   "eqNumInitial": 1,
   "hotkeys": {
    "equation": "Ctrl-E",
    "itemize": "Ctrl-I"
   },
   "labels_anchors": false,
   "latex_user_defs": false,
   "report_style_numbering": false,
   "user_envs_cfg": false
  }
 },
 "nbformat": 4,
 "nbformat_minor": 5
}
